{
 "cells": [
  {
   "cell_type": "code",
   "execution_count": null,
   "metadata": {
    "collapsed": true
   },
   "outputs": [],
   "source": [
    "\n",
    "# Импортируем библиотеку pygame\n",
    "import pygame\n",
    "from pygame import *\n",
    "\n",
    "#Объявляем переменные\n",
    "WIN_WIDTH = 400 #Ширина создаваемого окна\n",
    "WIN_HEIGHT = 400 # Высота\n",
    "DISPLAY = (WIN_WIDTH, WIN_HEIGHT) # Группируем ширину и высоту в одну переменную\n",
    "BACKGROUND_COLOR = \"#FFFFFF\""
   ]
  },
  {
   "cell_type": "code",
   "execution_count": null,
   "metadata": {
    "collapsed": false
   },
   "outputs": [],
   "source": [
    "def main():\n",
    "    pygame.init() # Инициация PyGame, обязательная строчка \n",
    "    screen = pygame.display.set_mode(DISPLAY) # Создаем окошко\n",
    "    pygame.display.set_caption(\"Super Mario Boy\") # Пишем в шапку\n",
    "    bg = Surface((WIN_WIDTH,WIN_HEIGHT)) \n",
    "    bg.fill(Color(BACKGROUND_COLOR))\n",
    "    \n",
    "    x = 100\n",
    "    \n",
    "    while 1: # Основной цикл программы\n",
    "        for e in pygame.event.get(): # Обрабатываем события\n",
    "            if e.type == QUIT:\n",
    "                raise(SystemExit, \"QUIT\")\n",
    "        screen.blit(bg, (0,0))      # Каждую итерацию необходимо всё перерисовывать \n",
    "        \n",
    "        pf = Surface((50, 50))\n",
    "        pf.fill(Color('#000000')) \n",
    "        screen.blit(pf,(x, 100))\n",
    "        \n",
    "        pygame.display.update()     # обновление и вывод всех изменений на экран\n",
    "\n",
    "if __name__ == \"__main__\":\n",
    "    main()"
   ]
  },
  {
   "cell_type": "code",
   "execution_count": null,
   "metadata": {
    "collapsed": true
   },
   "outputs": [],
   "source": []
  }
 ],
 "metadata": {
  "kernelspec": {
   "display_name": "Python 3",
   "language": "python",
   "name": "python3"
  },
  "language_info": {
   "codemirror_mode": {
    "name": "ipython",
    "version": 3
   },
   "file_extension": ".py",
   "mimetype": "text/x-python",
   "name": "python",
   "nbconvert_exporter": "python",
   "pygments_lexer": "ipython3",
   "version": "3.6.0"
  }
 },
 "nbformat": 4,
 "nbformat_minor": 2
}
